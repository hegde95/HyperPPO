{
 "cells": [
  {
   "cell_type": "code",
   "execution_count": 1,
   "metadata": {},
   "outputs": [
    {
     "name": "stderr",
     "output_type": "stream",
     "text": [
      "/home/shashank/miniconda3/envs/hyper/lib/python3.9/site-packages/tqdm/auto.py:21: TqdmWarning: IProgress not found. Please update jupyter and ipywidgets. See https://ipywidgets.readthedocs.io/en/stable/user_install.html\n",
      "  from .autonotebook import tqdm as notebook_tqdm\n"
     ]
    }
   ],
   "source": [
    "import sys\n",
    "import os\n",
    "from pathlib import Path\n",
    "project_root = os.path.join('/home/shashank/research/hyper/HyperPPO')\n",
    "os.chdir(project_root)\n",
    "%pwd \n",
    "from sf_examples.swarm.analyse_checkpoint import *"
   ]
  },
  {
   "cell_type": "code",
   "execution_count": 2,
   "metadata": {},
   "outputs": [],
   "source": [
    "env = \"quadrotor_multi\"\n",
    "train_dir = \"train_dir_final/swarm_mix\"\n",
    "experiment = \"01_swarm_see_8482643_env_quadrotor_multi_m.std_False_d.cri_False_a.s.mod_biased\"\n",
    "\n",
    "\n",
    "eval_str = \"python -m sf_examples.swarm.analyse_checkpoint\"\n",
    "eval_str += f\" --env {env}\"\n",
    "eval_str += f\" --train_dir {train_dir}\"\n",
    "eval_str += f\" --experiment {experiment}\"\n",
    "\n",
    "argv = eval_str.split()[3:]\n",
    "\n",
    "cfg = parse_swarm_cfg(evaluation=True, argv=argv)\n",
    "register_swarm_components(cfg)"
   ]
  },
  {
   "cell_type": "code",
   "execution_count": 3,
   "metadata": {},
   "outputs": [
    {
     "name": "stderr",
     "output_type": "stream",
     "text": [
      "\u001b[33m[2023-09-09 21:33:41,726][04491] Loading existing experiment configuration from train_dir_final/swarm_mix/01_swarm_see_8482643_env_quadrotor_multi_m.std_False_d.cri_False_a.s.mod_biased/config.json\u001b[0m\n",
      "\u001b[36m[2023-09-09 21:33:41,727][04491] Overriding arg 'train_dir' with value 'train_dir_final/swarm_mix' passed from command line\u001b[0m\n",
      "\u001b[36m[2023-09-09 21:33:41,727][04491] Adding new argument 'fps'=0 that is not in the saved config file!\u001b[0m\n",
      "\u001b[36m[2023-09-09 21:33:41,727][04491] Adding new argument 'eval_env_frameskip'=None that is not in the saved config file!\u001b[0m\n",
      "\u001b[36m[2023-09-09 21:33:41,728][04491] Adding new argument 'no_render'=False that is not in the saved config file!\u001b[0m\n",
      "\u001b[36m[2023-09-09 21:33:41,728][04491] Adding new argument 'save_video'=False that is not in the saved config file!\u001b[0m\n",
      "\u001b[36m[2023-09-09 21:33:41,731][04491] Adding new argument 'video_frames'=1000000000.0 that is not in the saved config file!\u001b[0m\n",
      "\u001b[36m[2023-09-09 21:33:41,731][04491] Adding new argument 'video_name'=None that is not in the saved config file!\u001b[0m\n",
      "\u001b[36m[2023-09-09 21:33:41,731][04491] Adding new argument 'max_num_frames'=1000000000.0 that is not in the saved config file!\u001b[0m\n",
      "\u001b[36m[2023-09-09 21:33:41,731][04491] Adding new argument 'max_num_episodes'=1000000000.0 that is not in the saved config file!\u001b[0m\n",
      "\u001b[36m[2023-09-09 21:33:41,732][04491] Adding new argument 'push_to_hub'=False that is not in the saved config file!\u001b[0m\n",
      "\u001b[36m[2023-09-09 21:33:41,732][04491] Adding new argument 'hf_repository'=None that is not in the saved config file!\u001b[0m\n",
      "\u001b[36m[2023-09-09 21:33:41,733][04491] Adding new argument 'policy_index'=0 that is not in the saved config file!\u001b[0m\n",
      "\u001b[36m[2023-09-09 21:33:41,733][04491] Adding new argument 'eval_deterministic'=False that is not in the saved config file!\u001b[0m\n",
      "\u001b[36m[2023-09-09 21:33:41,733][04491] Adding new argument 'train_script'=None that is not in the saved config file!\u001b[0m\n",
      "\u001b[36m[2023-09-09 21:33:41,734][04491] Adding new argument 'enjoy_script'=None that is not in the saved config file!\u001b[0m\n",
      "\u001b[36m[2023-09-09 21:33:41,734][04491] Using frameskip 1 and render_action_repeat=1 for evaluation\u001b[0m\n",
      "/home/shashank/miniconda3/envs/hyper/lib/python3.9/site-packages/gym/spaces/box.py:127: UserWarning: \u001b[33mWARN: Box bound precision lowered by casting to float32\u001b[0m\n",
      "  logger.warn(f\"Box bound precision lowered by casting to {self.dtype}\")\n",
      "/home/shashank/miniconda3/envs/hyper/lib/python3.9/site-packages/gym/spaces/box.py:127: UserWarning: \u001b[33mWARN: Box bound precision lowered by casting to float32\u001b[0m\n",
      "  logger.warn(f\"Box bound precision lowered by casting to {self.dtype}\")\n",
      "/home/shashank/miniconda3/envs/hyper/lib/python3.9/site-packages/gym/spaces/box.py:127: UserWarning: \u001b[33mWARN: Box bound precision lowered by casting to float32\u001b[0m\n",
      "  logger.warn(f\"Box bound precision lowered by casting to {self.dtype}\")\n"
     ]
    },
    {
     "name": "stdout",
     "output_type": "stream",
     "text": [
      "Observation components: ['xyz', 'vxyz', 'R', 'omega']\n",
      "Observation components: ['xyz', 'vxyz', 'R', 'omega']\n",
      "Observation components: ['xyz', 'vxyz', 'R', 'omega']\n"
     ]
    },
    {
     "name": "stderr",
     "output_type": "stream",
     "text": [
      "/home/shashank/miniconda3/envs/hyper/lib/python3.9/site-packages/gym/spaces/box.py:127: UserWarning: \u001b[33mWARN: Box bound precision lowered by casting to float32\u001b[0m\n",
      "  logger.warn(f\"Box bound precision lowered by casting to {self.dtype}\")\n",
      "/home/shashank/miniconda3/envs/hyper/lib/python3.9/site-packages/gym/spaces/box.py:127: UserWarning: \u001b[33mWARN: Box bound precision lowered by casting to float32\u001b[0m\n",
      "  logger.warn(f\"Box bound precision lowered by casting to {self.dtype}\")\n",
      "/home/shashank/miniconda3/envs/hyper/lib/python3.9/site-packages/gym/spaces/box.py:127: UserWarning: \u001b[33mWARN: Box bound precision lowered by casting to float32\u001b[0m\n",
      "  logger.warn(f\"Box bound precision lowered by casting to {self.dtype}\")\n",
      "/home/shashank/miniconda3/envs/hyper/lib/python3.9/site-packages/gym/spaces/box.py:127: UserWarning: \u001b[33mWARN: Box bound precision lowered by casting to float32\u001b[0m\n",
      "  logger.warn(f\"Box bound precision lowered by casting to {self.dtype}\")\n",
      "/home/shashank/miniconda3/envs/hyper/lib/python3.9/site-packages/gym/spaces/box.py:127: UserWarning: \u001b[33mWARN: Box bound precision lowered by casting to float32\u001b[0m\n",
      "  logger.warn(f\"Box bound precision lowered by casting to {self.dtype}\")\n",
      "/home/shashank/miniconda3/envs/hyper/lib/python3.9/site-packages/gym/spaces/box.py:127: UserWarning: \u001b[33mWARN: Box bound precision lowered by casting to float32\u001b[0m\n",
      "  logger.warn(f\"Box bound precision lowered by casting to {self.dtype}\")\n",
      "/home/shashank/miniconda3/envs/hyper/lib/python3.9/site-packages/gym/spaces/box.py:127: UserWarning: \u001b[33mWARN: Box bound precision lowered by casting to float32\u001b[0m\n",
      "  logger.warn(f\"Box bound precision lowered by casting to {self.dtype}\")\n"
     ]
    },
    {
     "name": "stdout",
     "output_type": "stream",
     "text": [
      "Observation components: ['xyz', 'vxyz', 'R', 'omega']\n",
      "Observation components: ['xyz', 'vxyz', 'R', 'omega']\n",
      "Observation components: ['xyz', 'vxyz', 'R', 'omega']\n",
      "Observation components: ['xyz', 'vxyz', 'R', 'omega']\n",
      "Observation components: ['xyz', 'vxyz', 'R', 'omega']\n",
      "Observation components: ['xyz', 'vxyz', 'R', 'omega']\n",
      "Observation components: ['xyz', 'vxyz', 'R', 'omega']\n"
     ]
    },
    {
     "name": "stderr",
     "output_type": "stream",
     "text": [
      "/home/shashank/miniconda3/envs/hyper/lib/python3.9/site-packages/gym/spaces/box.py:127: UserWarning: \u001b[33mWARN: Box bound precision lowered by casting to float32\u001b[0m\n",
      "  logger.warn(f\"Box bound precision lowered by casting to {self.dtype}\")\n",
      "/home/shashank/miniconda3/envs/hyper/lib/python3.9/site-packages/gym/spaces/box.py:127: UserWarning: \u001b[33mWARN: Box bound precision lowered by casting to float32\u001b[0m\n",
      "  logger.warn(f\"Box bound precision lowered by casting to {self.dtype}\")\n",
      "/home/shashank/miniconda3/envs/hyper/lib/python3.9/site-packages/gym/spaces/box.py:127: UserWarning: \u001b[33mWARN: Box bound precision lowered by casting to float32\u001b[0m\n",
      "  logger.warn(f\"Box bound precision lowered by casting to {self.dtype}\")\n",
      "/home/shashank/miniconda3/envs/hyper/lib/python3.9/site-packages/gym/spaces/box.py:127: UserWarning: \u001b[33mWARN: Box bound precision lowered by casting to float32\u001b[0m\n",
      "  logger.warn(f\"Box bound precision lowered by casting to {self.dtype}\")\n",
      "/home/shashank/miniconda3/envs/hyper/lib/python3.9/site-packages/gym/spaces/box.py:127: UserWarning: \u001b[33mWARN: Box bound precision lowered by casting to float32\u001b[0m\n",
      "  logger.warn(f\"Box bound precision lowered by casting to {self.dtype}\")\n",
      "/home/shashank/miniconda3/envs/hyper/lib/python3.9/site-packages/gym/spaces/box.py:127: UserWarning: \u001b[33mWARN: Box bound precision lowered by casting to float32\u001b[0m\n",
      "  logger.warn(f\"Box bound precision lowered by casting to {self.dtype}\")\n",
      "/home/shashank/miniconda3/envs/hyper/lib/python3.9/site-packages/gym/spaces/box.py:127: UserWarning: \u001b[33mWARN: Box bound precision lowered by casting to float32\u001b[0m\n",
      "  logger.warn(f\"Box bound precision lowered by casting to {self.dtype}\")\n",
      "/home/shashank/miniconda3/envs/hyper/lib/python3.9/site-packages/gym/spaces/box.py:127: UserWarning: \u001b[33mWARN: Box bound precision lowered by casting to float32\u001b[0m\n",
      "  logger.warn(f\"Box bound precision lowered by casting to {self.dtype}\")\n"
     ]
    },
    {
     "name": "stdout",
     "output_type": "stream",
     "text": [
      "Observation components: ['xyz', 'vxyz', 'R', 'omega']\n",
      "Observation components: ['xyz', 'vxyz', 'R', 'omega']\n",
      "Observation components: ['xyz', 'vxyz', 'R', 'omega']\n",
      "Observation components: ['xyz', 'vxyz', 'R', 'omega']\n",
      "Observation components: ['xyz', 'vxyz', 'R', 'omega']\n",
      "Observation components: ['xyz', 'vxyz', 'R', 'omega']\n",
      "Observation components: ['xyz', 'vxyz', 'R', 'omega']\n",
      "Observation components: ['xyz', 'vxyz', 'R', 'omega']\n"
     ]
    },
    {
     "name": "stderr",
     "output_type": "stream",
     "text": [
      "/home/shashank/miniconda3/envs/hyper/lib/python3.9/site-packages/gym/spaces/box.py:127: UserWarning: \u001b[33mWARN: Box bound precision lowered by casting to float32\u001b[0m\n",
      "  logger.warn(f\"Box bound precision lowered by casting to {self.dtype}\")\n",
      "/home/shashank/miniconda3/envs/hyper/lib/python3.9/site-packages/gym/spaces/box.py:127: UserWarning: \u001b[33mWARN: Box bound precision lowered by casting to float32\u001b[0m\n",
      "  logger.warn(f\"Box bound precision lowered by casting to {self.dtype}\")\n",
      "/home/shashank/miniconda3/envs/hyper/lib/python3.9/site-packages/gym/spaces/box.py:127: UserWarning: \u001b[33mWARN: Box bound precision lowered by casting to float32\u001b[0m\n",
      "  logger.warn(f\"Box bound precision lowered by casting to {self.dtype}\")\n",
      "/home/shashank/miniconda3/envs/hyper/lib/python3.9/site-packages/gym/spaces/box.py:127: UserWarning: \u001b[33mWARN: Box bound precision lowered by casting to float32\u001b[0m\n",
      "  logger.warn(f\"Box bound precision lowered by casting to {self.dtype}\")\n"
     ]
    },
    {
     "name": "stdout",
     "output_type": "stream",
     "text": [
      "Observation components: ['xyz', 'vxyz', 'R', 'omega']\n",
      "Observation components: ['xyz', 'vxyz', 'R', 'omega']\n",
      "Observation components: ['xyz', 'vxyz', 'R', 'omega']\n",
      "Observation components: ['xyz', 'vxyz', 'R', 'omega']\n",
      "Observation components: ['xyz', 'vxyz', 'R', 'omega']\n",
      "Observation components: ['xyz', 'vxyz', 'R', 'omega']\n"
     ]
    },
    {
     "name": "stderr",
     "output_type": "stream",
     "text": [
      "/home/shashank/miniconda3/envs/hyper/lib/python3.9/site-packages/gym/spaces/box.py:127: UserWarning: \u001b[33mWARN: Box bound precision lowered by casting to float32\u001b[0m\n",
      "  logger.warn(f\"Box bound precision lowered by casting to {self.dtype}\")\n",
      "/home/shashank/miniconda3/envs/hyper/lib/python3.9/site-packages/gym/spaces/box.py:127: UserWarning: \u001b[33mWARN: Box bound precision lowered by casting to float32\u001b[0m\n",
      "  logger.warn(f\"Box bound precision lowered by casting to {self.dtype}\")\n"
     ]
    }
   ],
   "source": [
    "verbose = False\n",
    "\n",
    "cfg = load_from_checkpoint(cfg)\n",
    "\n",
    "cfg.quads_view_mode = \"local\"\n",
    "# cfg.quads_view_mode = [\"topdown\", \"chase\", \"global\"]\n",
    "cfg.quads_mode = \"ep_rand_bezier\"\n",
    "\n",
    "\n",
    "\n",
    "eval_env_frameskip: int = cfg.env_frameskip if cfg.eval_env_frameskip is None else cfg.eval_env_frameskip\n",
    "assert (\n",
    "    cfg.env_frameskip % eval_env_frameskip == 0\n",
    "), f\"{cfg.env_frameskip=} mmilestoneust be divisible by {eval_env_frameskip=}\"\n",
    "render_action_repeat: int = cfg.env_frameskip // eval_env_frameskip\n",
    "cfg.env_frameskip = cfg.eval_env_frameskip = eval_env_frameskip\n",
    "log.debug(f\"Using frameskip {cfg.env_frameskip} and {render_action_repeat=} for evaluation\")\n",
    "\n",
    "cfg.num_envs = 1\n",
    "cfg.env_agents = 8*3\n",
    "# cfg.quads_render = True\n",
    "cfg.max_num_episodes = 40\n",
    "cfg.eval_deterministic = True\n",
    "num = 350\n",
    "\n",
    "# render_mode = \"human\"\n",
    "render_mode = None\n",
    "if cfg.save_video:\n",
    "    render_mode = \"rgb_array\"\n",
    "elif cfg.no_render:\n",
    "    render_mode = None\n",
    "\n",
    "env = make_env_func_batched(\n",
    "    cfg, env_config=AttrDict(worker_index=0, vector_index=0, env_id=0), render_mode=render_mode\n",
    ")\n",
    "env_info = extract_env_info(env, cfg)\n",
    "\n",
    "if hasattr(env.unwrapped, \"reset_on_init\"):\n",
    "    # reset call ruins the demo recording for VizDoom\n",
    "    env.unwrapped.reset_on_init = False"
   ]
  },
  {
   "cell_type": "code",
   "execution_count": 4,
   "metadata": {},
   "outputs": [],
   "source": [
    "\n",
    "def enjoy(cfg):\n",
    "    actor_critic = create_actor_critic(cfg, env.observation_space, env.action_space)\n",
    "    actor_critic.eval()\n",
    "\n",
    "    device = torch.device(\"cpu\" if cfg.device == \"cpu\" else \"cuda\")\n",
    "    actor_critic.model_to_device(device)\n",
    "\n",
    "    policy_id = cfg.policy_index\n",
    "    name_prefix = dict(latest=\"checkpoint\", best=\"best\")[cfg.load_checkpoint_kind]\n",
    "    checkpoints = Learner.get_checkpoints(Learner.checkpoint_dir(cfg, policy_id), f\"{name_prefix}_*\")\n",
    "\n",
    "\n",
    "    if cfg.milestone_name is None:\n",
    "        checkpoint_dict = Learner.load_checkpoint(checkpoints, device)\n",
    "        milestone_to_load = checkpoint_dict[\"model\"]\n",
    "    else:\n",
    "        milestone_dir = os.path.join(cfg.train_dir, cfg.experiment, \"checkpoint_p0\", \"milestones\")\n",
    "        milestones = Learner.get_checkpoints(milestone_dir, \"checkpoint_*\")\n",
    "        milestone_to_load = [milestone for milestone in milestones if cfg.milestone_name in milestone][0]\n",
    "        checkpoint_dict = Learner.load_checkpoint([milestone_to_load], device)\n",
    "\n",
    "    actor_critic.load_state_dict(checkpoint_dict[\"model\"])\n",
    "    ghn = actor_critic.actor_encoder.ghn\n",
    "    ghn.eval()    \n",
    "\n",
    "    experiment_dir = os.path.join(cfg.train_dir, cfg.experiment)\n",
    "    dataframe_dir = os.path.join(experiment_dir, \"dataframes\")\n",
    "    if not os.path.exists(dataframe_dir):\n",
    "        os.makedirs(dataframe_dir)\n",
    "\n",
    "    list_of_test_archs = actor_critic.actor_encoder.list_of_arcs\n",
    "    list_of_test_arch_indices = actor_critic.actor_encoder.list_of_arc_indices\n",
    "    # self.list_of_test_shape_inds = self.actor_critic.actor_encoder.list_of_shape_inds\n",
    "    list_of_test_shape_inds = torch.stack([actor_critic.actor_encoder.list_of_shape_inds[index][0:11] for k,index in enumerate(list_of_test_arch_indices)])\n",
    "    test_results_df = pd.DataFrame(columns=['arch', 'num_params','reward'])\n",
    "    test_results_df['arch'] = [list_of_test_archs[i] for i in list_of_test_arch_indices]\n",
    "    test_results_df['num_params'] = [actor_critic.actor_encoder.get_params(list_of_test_archs[i]) for i in list_of_test_arch_indices]\n",
    "\n",
    "\n",
    "    archs_per_num = len(list_of_test_arch_indices) // num  \n",
    "    episode_rewards = np.zeros((len(list_of_test_arch_indices)))\n",
    "\n",
    "    for k in tqdm(range(num)):\n",
    "        actor_critic.actor_encoder.set_graph(list_of_test_arch_indices[k*archs_per_num:(k+1)*archs_per_num], list_of_test_shape_inds[k*archs_per_num:(k+1)*archs_per_num])\n",
    "        episode_rewards_per_num, finished_episode_per_num = eval_for_given_arch(env.num_agents, env, actor_critic, env_info, cfg, device)\n",
    "        episode_rewards[k*archs_per_num:(k+1)*archs_per_num] = episode_rewards_per_num.reshape(archs_per_num, env.num_agents//archs_per_num).mean(1)\n",
    "    \n",
    "    test_results_df['reward'] = episode_rewards\n",
    "    dataframe_name = os.path.join(dataframe_dir, f\"{cfg.milestone_name}.csv\")\n",
    "    test_results_df.to_csv(dataframe_name, index=False)\n",
    "    # return test_results_df\n",
    "\n"
   ]
  },
  {
   "cell_type": "code",
   "execution_count": 9,
   "metadata": {},
   "outputs": [
    {
     "name": "stdout",
     "output_type": "stream",
     "text": [
      "checkpoint_000143782_147390464\n"
     ]
    },
    {
     "name": "stderr",
     "output_type": "stream",
     "text": [
      "\u001b[33m[2023-09-09 21:36:16,997][04491] Loading state from checkpoint train_dir_final/swarm_mix/01_swarm_see_8482643_env_quadrotor_multi_m.std_False_d.cri_False_a.s.mod_biased/checkpoint_p0/milestones/checkpoint_000143782_147390464.pth...\u001b[0m\n",
      "100%|██████████| 350/350 [1:43:58<00:00, 17.82s/it]\n"
     ]
    },
    {
     "ename": "",
     "evalue": "",
     "output_type": "error",
     "traceback": [
      "\u001b[1;31mThe Kernel crashed while executing code in the the current cell or a previous cell. Please review the code in the cell(s) to identify a possible cause of the failure. Click <a href='https://aka.ms/vscodeJupyterKernelCrash'>here</a> for more info. View Jupyter <a href='command:jupyter.viewOutput'>log</a> for further details."
     ]
    }
   ],
   "source": [
    "# list all milestones\n",
    "milestones_dir = os.path.join(cfg.train_dir, cfg.experiment, \"checkpoint_p0\", \"milestones\")\n",
    "all_milestones = os.listdir(milestones_dir)\n",
    "# sort by number\n",
    "all_milestones.sort(key=lambda x: int(x.split(\"_\")[-2]))\n",
    "dataframe_dir = os.path.join(cfg.train_dir, cfg.experiment, \"dataframes\")\n",
    "\n",
    "\n",
    "# choose every 3rd milestone\n",
    "all_milestones = all_milestones[::3]\n",
    "\n",
    "# remove all milestones that have already been evaluated and saved in dataframe\n",
    "all_milestones = [ms for ms in all_milestones if ms[:-4]+\".csv\" not in os.listdir(dataframe_dir)]\n",
    "\n",
    "for ms in all_milestones:\n",
    "    print(ms[:-4])\n",
    "    cfg.milestone_name = ms[:-4]\n",
    "    enjoy(cfg)"
   ]
  }
 ],
 "metadata": {
  "kernelspec": {
   "display_name": "hyper",
   "language": "python",
   "name": "python3"
  },
  "language_info": {
   "codemirror_mode": {
    "name": "ipython",
    "version": 3
   },
   "file_extension": ".py",
   "mimetype": "text/x-python",
   "name": "python",
   "nbconvert_exporter": "python",
   "pygments_lexer": "ipython3",
   "version": "3.9.0"
  },
  "orig_nbformat": 4
 },
 "nbformat": 4,
 "nbformat_minor": 2
}
