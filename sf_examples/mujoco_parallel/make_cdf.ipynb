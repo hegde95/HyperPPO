{
 "cells": [
  {
   "cell_type": "code",
   "execution_count": 1,
   "metadata": {},
   "outputs": [
    {
     "data": {
      "text/plain": [
       "'/home/shashank/research/hyper/HyperPPO'"
      ]
     },
     "execution_count": 1,
     "metadata": {},
     "output_type": "execute_result"
    }
   ],
   "source": [
    "import os\n",
    "import sys\n",
    "from pathlib import Path\n",
    "project_root = os.path.join('/home/shashank/research/hyper/HyperPPO')\n",
    "os.chdir(project_root)\n",
    "%pwd "
   ]
  },
  {
   "cell_type": "code",
   "execution_count": 2,
   "metadata": {},
   "outputs": [
    {
     "name": "stderr",
     "output_type": "stream",
     "text": [
      "/home/shashank/miniconda3/envs/hyper/lib/python3.9/site-packages/tqdm/auto.py:21: TqdmWarning: IProgress not found. Please update jupyter and ipywidgets. See https://ipywidgets.readthedocs.io/en/stable/user_install.html\n",
      "  from .autonotebook import tqdm as notebook_tqdm\n"
     ]
    }
   ],
   "source": [
    "\n",
    "import matplotlib.pyplot as plt\n",
    "# import seaborn as sns\n",
    "import numpy as np\n",
    "import pandas as pd\n",
    "from tqdm import tqdm\n",
    "\n",
    "from sample_factory.enjoy import *\n",
    "from sf_examples.mujoco_parallel.enjoy_mujoco import *"
   ]
  },
  {
   "cell_type": "code",
   "execution_count": 3,
   "metadata": {},
   "outputs": [],
   "source": [
    "env = \"mujoco_halfcheetah\"\n",
    "train_dir = \"train_dir_final/mujoco/mujoco_2048\"\n",
    "experiment = \"00_mujoco_see_1985264_env_mujoco_halfcheetah_d.cri_False_m.std_False_a.s.mod_biased\"\n",
    "\n",
    "\n",
    "eval_str = \"python -m sf_examples.mujoco_parallel.enjoy_mujoco\"\n",
    "eval_str += f\" --env {env}\"\n",
    "eval_str += f\" --train_dir {train_dir}\"\n",
    "eval_str += f\" --experiment {experiment}\"\n",
    "\n",
    "argv = eval_str.split()[3:]\n",
    "\n",
    "cfg = parse_mujoco_cfg(evaluation=True, argv=argv)\n",
    "register_mujoco_components()"
   ]
  },
  {
   "cell_type": "code",
   "execution_count": 4,
   "metadata": {},
   "outputs": [
    {
     "name": "stderr",
     "output_type": "stream",
     "text": [
      "\u001b[33m[2023-09-11 05:08:50,434][04412] Loading existing experiment configuration from train_dir_final/mujoco/mujoco_2048/00_mujoco_see_1985264_env_mujoco_halfcheetah_d.cri_False_m.std_False_a.s.mod_biased/config.json\u001b[0m\n",
      "\u001b[36m[2023-09-11 05:08:50,435][04412] Overriding arg 'train_dir' with value 'train_dir_final/mujoco/mujoco_2048' passed from command line\u001b[0m\n",
      "\u001b[36m[2023-09-11 05:08:50,435][04412] Adding new argument 'fps'=0 that is not in the saved config file!\u001b[0m\n",
      "\u001b[36m[2023-09-11 05:08:50,435][04412] Adding new argument 'eval_env_frameskip'=None that is not in the saved config file!\u001b[0m\n",
      "\u001b[36m[2023-09-11 05:08:50,436][04412] Adding new argument 'no_render'=False that is not in the saved config file!\u001b[0m\n",
      "\u001b[36m[2023-09-11 05:08:50,436][04412] Adding new argument 'save_video'=False that is not in the saved config file!\u001b[0m\n",
      "\u001b[36m[2023-09-11 05:08:50,436][04412] Adding new argument 'video_frames'=1000000000.0 that is not in the saved config file!\u001b[0m\n",
      "\u001b[36m[2023-09-11 05:08:50,437][04412] Adding new argument 'video_name'=None that is not in the saved config file!\u001b[0m\n",
      "\u001b[36m[2023-09-11 05:08:50,437][04412] Adding new argument 'max_num_frames'=1000000000.0 that is not in the saved config file!\u001b[0m\n",
      "\u001b[36m[2023-09-11 05:08:50,438][04412] Adding new argument 'max_num_episodes'=1000000000.0 that is not in the saved config file!\u001b[0m\n",
      "\u001b[36m[2023-09-11 05:08:50,438][04412] Adding new argument 'push_to_hub'=False that is not in the saved config file!\u001b[0m\n",
      "\u001b[36m[2023-09-11 05:08:50,438][04412] Adding new argument 'hf_repository'=None that is not in the saved config file!\u001b[0m\n",
      "\u001b[36m[2023-09-11 05:08:50,438][04412] Adding new argument 'policy_index'=0 that is not in the saved config file!\u001b[0m\n",
      "\u001b[36m[2023-09-11 05:08:50,439][04412] Adding new argument 'eval_deterministic'=False that is not in the saved config file!\u001b[0m\n",
      "\u001b[36m[2023-09-11 05:08:50,439][04412] Adding new argument 'train_script'=None that is not in the saved config file!\u001b[0m\n",
      "\u001b[36m[2023-09-11 05:08:50,439][04412] Adding new argument 'enjoy_script'=None that is not in the saved config file!\u001b[0m\n",
      "\u001b[36m[2023-09-11 05:08:50,440][04412] Using frameskip 1 and render_action_repeat=1 for evaluation\u001b[0m\n"
     ]
    }
   ],
   "source": [
    "verbose = False\n",
    "\n",
    "cfg = load_from_checkpoint(cfg)\n",
    "\n",
    "\n",
    "eval_env_frameskip: int = cfg.env_frameskip if cfg.eval_env_frameskip is None else cfg.eval_env_frameskip\n",
    "assert (\n",
    "    cfg.env_frameskip % eval_env_frameskip == 0\n",
    "), f\"{cfg.env_frameskip=} mmilestoneust be divisible by {eval_env_frameskip=}\"\n",
    "render_action_repeat: int = cfg.env_frameskip // eval_env_frameskip\n",
    "cfg.env_frameskip = cfg.eval_env_frameskip = eval_env_frameskip\n",
    "log.debug(f\"Using frameskip {cfg.env_frameskip} and {render_action_repeat=} for evaluation\")\n",
    "\n",
    "cfg.num_envs = 1\n",
    "cfg.env_agents = 8*3\n",
    "cfg.max_num_episodes = 40\n",
    "cfg.eval_deterministic = True\n",
    "num = 350\n",
    "\n",
    "# render_mode = \"human\"\n",
    "render_mode = None\n",
    "if cfg.save_video:\n",
    "    render_mode = \"rgb_array\"\n",
    "elif cfg.no_render:\n",
    "    render_mode = None\n",
    "\n",
    "env = make_env_func_batched(\n",
    "    cfg, env_config=AttrDict(worker_index=0, vector_index=0, env_id=0), render_mode=render_mode\n",
    ")\n",
    "env_info = extract_env_info(env, cfg)\n",
    "\n",
    "if hasattr(env.unwrapped, \"reset_on_init\"):\n",
    "    # reset call ruins the demo recording for VizDoom\n",
    "    env.unwrapped.reset_on_init = False"
   ]
  },
  {
   "cell_type": "code",
   "execution_count": 5,
   "metadata": {},
   "outputs": [],
   "source": [
    "\n",
    "def eval_for_given_arch(num_eval_envs, eval_env, actor_critic, env_info, cfg, device):\n",
    "    episode_rewards = np.zeros((num_eval_envs))\n",
    "    obs, infos = eval_env.reset()\n",
    "    rnn_states = torch.zeros([num_eval_envs, get_rnn_size(cfg)], dtype=torch.float32, device=device)\n",
    "    episode_reward = None\n",
    "    finished_episode = [False for _ in range(num_eval_envs)]\n",
    "    with torch.no_grad():\n",
    "        while not all(finished_episode):\n",
    "            normalized_obs = prepare_and_normalize_obs(actor_critic, obs)\n",
    "            policy_outputs = actor_critic(normalized_obs, rnn_states, sample_actions=True)\n",
    "            \n",
    "            # sample actions from the distribution by default\n",
    "            actions = policy_outputs[\"actions\"]\n",
    "\n",
    "            # actions shape should be [num_agents, num_actions] even if it's [1, 1]\n",
    "            if actions.ndim == 1:\n",
    "                actions = unsqueeze_tensor(actions, dim=-1)\n",
    "            actions = preprocess_actions(env_info, actions)\n",
    "\n",
    "\n",
    "\n",
    "            obs, rew, terminated, truncated, infos = eval_env.step(actions)\n",
    "            dones = make_dones(terminated, truncated)\n",
    "            infos = [{} for _ in range(env_info.num_agents)] if infos is None else infos\n",
    "\n",
    "            if episode_reward is None:\n",
    "                episode_reward = rew.float().clone()\n",
    "            else:\n",
    "                episode_reward += rew.float()\n",
    "\n",
    "            dones = dones.cpu().numpy()\n",
    "            for agent_i, done_flag in enumerate(dones):\n",
    "                if done_flag:\n",
    "                    finished_episode[agent_i] = True\n",
    "                    rew = episode_reward[agent_i].item()\n",
    "                    episode_rewards[agent_i] = rew\n",
    "\n",
    "\n",
    "\n",
    "                    episode_reward[agent_i] = 0\n",
    "\n",
    "                    # reward_list.append(true_objective)\n",
    "    return episode_rewards, finished_episode"
   ]
  },
  {
   "cell_type": "code",
   "execution_count": 6,
   "metadata": {},
   "outputs": [],
   "source": [
    "\n",
    "def enjoy(cfg):\n",
    "\n",
    "    actor_critic = create_actor_critic(cfg, env.observation_space, env.action_space)\n",
    "    actor_critic.eval()\n",
    "\n",
    "    device = torch.device(\"cpu\" if cfg.device == \"cpu\" else \"cuda\")\n",
    "    actor_critic.model_to_device(device)\n",
    "\n",
    "    policy_id = cfg.policy_index\n",
    "    name_prefix = dict(latest=\"checkpoint\", best=\"best\")[cfg.load_checkpoint_kind]\n",
    "    checkpoints = Learner.get_checkpoints(Learner.checkpoint_dir(cfg, policy_id), f\"{name_prefix}_*\")\n",
    "\n",
    "\n",
    "    if cfg.milestone_name is None:\n",
    "        checkpoint_dict = Learner.load_checkpoint(checkpoints, device)\n",
    "        milestone_to_load = checkpoint_dict[\"model\"]\n",
    "    else:\n",
    "        milestone_dir = os.path.join(cfg.train_dir, cfg.experiment, \"checkpoint_p0\", \"milestones\")\n",
    "        milestones = Learner.get_checkpoints(milestone_dir, \"checkpoint_*\")\n",
    "        milestone_to_load = [milestone for milestone in milestones if cfg.milestone_name in milestone][0]\n",
    "        checkpoint_dict = Learner.load_checkpoint([milestone_to_load], device)\n",
    "\n",
    "    actor_critic.load_state_dict(checkpoint_dict[\"model\"])\n",
    "    ghn = actor_critic.actor_encoder.ghn\n",
    "    ghn.eval()    \n",
    "\n",
    "    experiment_dir = os.path.join(cfg.train_dir, cfg.experiment)\n",
    "    dataframe_dir = os.path.join(experiment_dir, \"dataframes\")\n",
    "    if not os.path.exists(dataframe_dir):\n",
    "        os.makedirs(dataframe_dir)\n",
    "    dataframe_name = os.path.join(dataframe_dir, f\"{cfg.milestone_name}.csv\")\n",
    "\n",
    "    if os.path.exists(dataframe_name):\n",
    "        print(\"Dataframe already exists\")\n",
    "        return\n",
    "\n",
    "    list_of_test_archs = actor_critic.actor_encoder.list_of_arcs\n",
    "    list_of_test_arch_indices = actor_critic.actor_encoder.list_of_arc_indices\n",
    "    # self.list_of_test_shape_inds = self.actor_critic.actor_encoder.list_of_shape_inds\n",
    "    list_of_test_shape_inds = torch.stack([actor_critic.actor_encoder.list_of_shape_inds[index][0:11] for k,index in enumerate(list_of_test_arch_indices)])\n",
    "    test_results_df = pd.DataFrame(columns=['arch', 'num_params','reward'])\n",
    "    test_results_df['arch'] = [list_of_test_archs[i] for i in list_of_test_arch_indices]\n",
    "    test_results_df['num_params'] = [actor_critic.actor_encoder.get_params(list_of_test_archs[i]) for i in list_of_test_arch_indices]\n",
    "\n",
    "\n",
    "    archs_per_num = len(list_of_test_arch_indices) // num  \n",
    "    episode_rewards = np.zeros((len(list_of_test_arch_indices)))\n",
    "\n",
    "    for k in tqdm(range(num)):\n",
    "        actor_critic.actor_encoder.set_graph(list_of_test_arch_indices[k*archs_per_num:(k+1)*archs_per_num], list_of_test_shape_inds[k*archs_per_num:(k+1)*archs_per_num])\n",
    "        episode_rewards_per_num, finished_episode_per_num = eval_for_given_arch(env.num_agents, env, actor_critic, env_info, cfg, device)\n",
    "        episode_rewards[k*archs_per_num:(k+1)*archs_per_num] = episode_rewards_per_num.reshape(archs_per_num, env.num_agents//archs_per_num).mean(1)\n",
    "    \n",
    "    test_results_df['reward'] = episode_rewards\n",
    "    test_results_df.to_csv(dataframe_name, index=False)\n",
    "    # return test_results_df\n",
    "\n"
   ]
  },
  {
   "cell_type": "code",
   "execution_count": 7,
   "metadata": {},
   "outputs": [],
   "source": [
    "folder_to_ignore = [\n",
    "    \"02_mujoco_see_7377834_env_mujoco_halfcheetah_d.cri_False_m.std_False_a.s.mod_biased\",\n",
    "    \"00_mujoco_see_1985264_env_mujoco_halfcheetah_d.cri_False_m.std_False_a.s.mod_biased\",\n",
    "    \"01_mujoco_see_6657756_env_mujoco_halfcheetah_d.cri_False_m.std_False_a.s.mod_biased\",\n",
    "    \"00_mujoco_see_2665409_env_mujoco_halfcheetah_d.cri_False_m.std_False_a.s.mod_biased\"\n",
    "]\n",
    "\n",
    "def plot_cdf(train_dir, max_num_seeds = 6):\n",
    "    folders = os.listdir(train_dir)\n",
    "    folders.sort(key=lambda x: int(x.split(\"_\")[0]))\n",
    "    ys = []\n",
    "    xs = []\n",
    "    k = 0\n",
    "    for folder in folders:\n",
    "        if folder in folder_to_ignore:\n",
    "            continue\n",
    "\n",
    "        path_to_dataframe_folder = os.path.join(train_dir, folder,\"dataframes\")\n",
    "\n",
    "        # if path_to_dataframe_folder is not a directory, skip it\n",
    "        if not os.path.isdir(path_to_dataframe_folder):\n",
    "            continue\n",
    "        list_all_dataframes = os.listdir(path_to_dataframe_folder)\n",
    "        # sort the list of dataframes by 3rd element after splitting by \"_\" and ignoring the \".csv\" extension\n",
    "        list_all_dataframes.sort(key=lambda x: int(x.split(\"_\")[2].split(\".\")[0]))\n",
    "\n",
    "        if len(list_all_dataframes) == 0:\n",
    "            continue\n",
    "\n",
    "        # get the path of the last dataframe\n",
    "        path_to_last_dataframe = os.path.join(path_to_dataframe_folder, list_all_dataframes[-1])\n",
    "        # print(path_to_last_dataframe)\n",
    "        # read the last dataframe\n",
    "        df = pd.read_csv(path_to_last_dataframe)\n",
    "\n",
    "        rewards = df[\"reward\"]\n",
    "        # sort the rewards in descending order\n",
    "        rewards = rewards.sort_values(ascending=False)\n",
    "        max_reward = rewards.iloc[0]\n",
    "        min_reward = rewards.iloc[-1]\n",
    "\n",
    "        # create a cdf plot for the reward column\n",
    "        x = np.linspace(-1000, max_reward, len(rewards))\n",
    "        y = []\n",
    "        for i in range(len(x)):\n",
    "            x[i] = int(x[i])\n",
    "            y.append(len(rewards) - (len(rewards[rewards <= x[i]])))\n",
    "        ys.append(y)\n",
    "        xs.append(x)\n",
    "        k += 1\n",
    "        if k == max_num_seeds:\n",
    "            break\n",
    "\n",
    "    # plot the cdf with mean and std deviation with color area\n",
    "    num_agents = train_dir.split(\"_\")[-1]\n",
    "    # make legend as per the number of agents\n",
    "    mean = np.mean(ys, axis=0)\n",
    "    std = np.std(ys, axis=0)\n",
    "    plt.plot(xs[0], mean, label=num_agents)\n",
    "    plt.fill_between(xs[0], mean - std, mean + std, color='b', alpha=.1)\n",
    "\n",
    "\n",
    "    # name the axes\n",
    "    plt.xlabel(\"reward\")\n",
    "    plt.ylabel(\"number of policies\")\n"
   ]
  },
  {
   "cell_type": "code",
   "execution_count": 8,
   "metadata": {},
   "outputs": [
    {
     "name": "stderr",
     "output_type": "stream",
     "text": [
      "\u001b[36m[2023-09-11 05:08:56,547][04412] RunningMeanStd input shape: (17,)\u001b[0m\n",
      "\u001b[36m[2023-09-11 05:08:56,589][04412] RunningMeanStd input shape: (1,)\u001b[0m\n",
      "\u001b[33m[2023-09-11 05:08:59,869][04412] Loading state from checkpoint train_dir_final/mujoco/mujoco_2048/00_mujoco_see_1985264_env_mujoco_halfcheetah_d.cri_False_m.std_False_a.s.mod_biased/checkpoint_p0/milestones/checkpoint_000096088_98394112.pth...\u001b[0m\n",
      "\u001b[36m[2023-09-11 05:08:59,985][04412] RunningMeanStd input shape: (17,)\u001b[0m\n",
      "\u001b[36m[2023-09-11 05:08:59,987][04412] RunningMeanStd input shape: (1,)\u001b[0m\n"
     ]
    },
    {
     "name": "stdout",
     "output_type": "stream",
     "text": [
      "Dataframe already exists\n"
     ]
    },
    {
     "name": "stderr",
     "output_type": "stream",
     "text": [
      "\u001b[33m[2023-09-11 05:09:01,653][04412] Loading state from checkpoint train_dir_final/mujoco/mujoco_2048/01_mujoco_see_7725366_env_mujoco_halfcheetah_d.cri_False_m.std_False_a.s.mod_biased/checkpoint_p0/milestones/checkpoint_000088248_90365952.pth...\u001b[0m\n",
      "\u001b[36m[2023-09-11 05:09:01,768][04412] RunningMeanStd input shape: (17,)\u001b[0m\n",
      "\u001b[36m[2023-09-11 05:09:01,772][04412] RunningMeanStd input shape: (1,)\u001b[0m\n"
     ]
    },
    {
     "name": "stdout",
     "output_type": "stream",
     "text": [
      "Dataframe already exists\n"
     ]
    },
    {
     "name": "stderr",
     "output_type": "stream",
     "text": [
      "\u001b[33m[2023-09-11 05:09:03,423][04412] Loading state from checkpoint train_dir_final/mujoco/mujoco_2048/02_mujoco_see_7377834_env_mujoco_halfcheetah_d.cri_False_m.std_False_a.s.mod_biased/checkpoint_p0/milestones/checkpoint_000088128_90243072.pth...\u001b[0m\n",
      "\u001b[36m[2023-09-11 05:09:03,547][04412] RunningMeanStd input shape: (17,)\u001b[0m\n",
      "\u001b[36m[2023-09-11 05:09:03,551][04412] RunningMeanStd input shape: (1,)\u001b[0m\n"
     ]
    },
    {
     "name": "stdout",
     "output_type": "stream",
     "text": [
      "Dataframe already exists\n"
     ]
    },
    {
     "name": "stderr",
     "output_type": "stream",
     "text": [
      "\u001b[33m[2023-09-11 05:09:05,212][04412] Loading state from checkpoint train_dir_final/mujoco/mujoco_2048/03_mujoco_see_7621403_env_mujoco_halfcheetah_d.cri_False_m.std_False_a.s.mod_biased/checkpoint_p0/milestones/checkpoint_000096104_98410496.pth...\u001b[0m\n",
      "\u001b[36m[2023-09-11 05:09:05,330][04412] RunningMeanStd input shape: (17,)\u001b[0m\n",
      "\u001b[36m[2023-09-11 05:09:05,332][04412] RunningMeanStd input shape: (1,)\u001b[0m\n"
     ]
    },
    {
     "name": "stdout",
     "output_type": "stream",
     "text": [
      "Dataframe already exists\n"
     ]
    },
    {
     "name": "stderr",
     "output_type": "stream",
     "text": [
      "\u001b[33m[2023-09-11 05:09:06,978][04412] Loading state from checkpoint train_dir_final/mujoco/mujoco_1024/00_mujoco_see_2665409_env_mujoco_halfcheetah_d.cri_False_m.std_False_a.s.mod_biased/checkpoint_p0/milestones/checkpoint_000120320_61603840.pth...\u001b[0m\n",
      "\u001b[36m[2023-09-11 05:09:07,103][04412] RunningMeanStd input shape: (17,)\u001b[0m\n",
      "\u001b[36m[2023-09-11 05:09:07,106][04412] RunningMeanStd input shape: (1,)\u001b[0m\n"
     ]
    },
    {
     "name": "stdout",
     "output_type": "stream",
     "text": [
      "Dataframe already exists\n"
     ]
    },
    {
     "name": "stderr",
     "output_type": "stream",
     "text": [
      "\u001b[33m[2023-09-11 05:09:08,741][04412] Loading state from checkpoint train_dir_final/mujoco/mujoco_1024/01_mujoco_see_6657756_env_mujoco_halfcheetah_d.cri_False_m.std_False_a.s.mod_biased/checkpoint_p0/milestones/checkpoint_000117904_60366848.pth...\u001b[0m\n",
      "\u001b[36m[2023-09-11 05:09:08,860][04412] RunningMeanStd input shape: (17,)\u001b[0m\n",
      "\u001b[36m[2023-09-11 05:09:08,862][04412] RunningMeanStd input shape: (1,)\u001b[0m\n"
     ]
    },
    {
     "name": "stdout",
     "output_type": "stream",
     "text": [
      "Dataframe already exists\n"
     ]
    },
    {
     "name": "stderr",
     "output_type": "stream",
     "text": [
      "\u001b[33m[2023-09-11 05:09:10,503][04412] Loading state from checkpoint train_dir_final/mujoco/mujoco_1024/02_mujoco_see_8466377_env_mujoco_halfcheetah_d.cri_False_m.std_False_a.s.mod_biased/checkpoint_p0/milestones/checkpoint_000119840_61358080.pth...\u001b[0m\n",
      "\u001b[36m[2023-09-11 05:09:10,622][04412] RunningMeanStd input shape: (17,)\u001b[0m\n",
      "\u001b[36m[2023-09-11 05:09:10,625][04412] RunningMeanStd input shape: (1,)\u001b[0m\n"
     ]
    },
    {
     "name": "stdout",
     "output_type": "stream",
     "text": [
      "Dataframe already exists\n"
     ]
    },
    {
     "name": "stderr",
     "output_type": "stream",
     "text": [
      "\u001b[33m[2023-09-11 05:09:12,279][04412] Loading state from checkpoint train_dir_final/mujoco/mujoco_1024/03_mujoco_see_2699162_env_mujoco_halfcheetah_d.cri_False_m.std_False_a.s.mod_biased/checkpoint_p0/milestones/checkpoint_000120288_61587456.pth...\u001b[0m\n",
      "\u001b[36m[2023-09-11 05:09:12,401][04412] RunningMeanStd input shape: (17,)\u001b[0m\n",
      "\u001b[36m[2023-09-11 05:09:12,404][04412] RunningMeanStd input shape: (1,)\u001b[0m\n"
     ]
    },
    {
     "name": "stdout",
     "output_type": "stream",
     "text": [
      "Dataframe already exists\n"
     ]
    },
    {
     "name": "stderr",
     "output_type": "stream",
     "text": [
      "\u001b[33m[2023-09-11 05:09:14,065][04412] Loading state from checkpoint train_dir_final/mujoco/mujoco_512/00_mujoco_see_7887890_env_mujoco_halfcheetah_d.cri_False_m.std_False_a.s.mod_biased/checkpoint_p0/milestones/checkpoint_000238928_61165568.pth...\u001b[0m\n",
      "\u001b[36m[2023-09-11 05:09:14,190][04412] RunningMeanStd input shape: (17,)\u001b[0m\n",
      "\u001b[36m[2023-09-11 05:09:14,193][04412] RunningMeanStd input shape: (1,)\u001b[0m\n"
     ]
    },
    {
     "name": "stdout",
     "output_type": "stream",
     "text": [
      "Dataframe already exists\n"
     ]
    },
    {
     "name": "stderr",
     "output_type": "stream",
     "text": [
      "\u001b[33m[2023-09-11 05:09:15,833][04412] Loading state from checkpoint train_dir_final/mujoco/mujoco_512/01_mujoco_see_5472406_env_mujoco_halfcheetah_d.cri_False_m.std_False_a.s.mod_biased/checkpoint_p0/milestones/checkpoint_000378800_96972800.pth...\u001b[0m\n",
      "\u001b[36m[2023-09-11 05:09:15,951][04412] RunningMeanStd input shape: (17,)\u001b[0m\n",
      "\u001b[36m[2023-09-11 05:09:15,955][04412] RunningMeanStd input shape: (1,)\u001b[0m\n"
     ]
    },
    {
     "name": "stdout",
     "output_type": "stream",
     "text": [
      "Dataframe already exists\n"
     ]
    },
    {
     "name": "stderr",
     "output_type": "stream",
     "text": [
      "\u001b[33m[2023-09-11 05:09:17,583][04412] Loading state from checkpoint train_dir_final/mujoco/mujoco_512/02_mujoco_see_7789794_env_mujoco_halfcheetah_d.cri_False_m.std_False_a.s.mod_biased/checkpoint_p0/milestones/checkpoint_000380520_97413120.pth...\u001b[0m\n",
      "\u001b[36m[2023-09-11 05:09:17,711][04412] RunningMeanStd input shape: (17,)\u001b[0m\n",
      "\u001b[36m[2023-09-11 05:09:17,714][04412] RunningMeanStd input shape: (1,)\u001b[0m\n"
     ]
    },
    {
     "name": "stdout",
     "output_type": "stream",
     "text": [
      "Dataframe already exists\n"
     ]
    },
    {
     "name": "stderr",
     "output_type": "stream",
     "text": [
      "\u001b[33m[2023-09-11 05:09:19,341][04412] Loading state from checkpoint train_dir_final/mujoco/mujoco_512/03_mujoco_see_1403024_env_mujoco_halfcheetah_d.cri_False_m.std_False_a.s.mod_biased/checkpoint_p0/milestones/checkpoint_000380320_97361920.pth...\u001b[0m\n",
      "\u001b[36m[2023-09-11 05:09:19,456][04412] RunningMeanStd input shape: (17,)\u001b[0m\n",
      "\u001b[36m[2023-09-11 05:09:19,458][04412] RunningMeanStd input shape: (1,)\u001b[0m\n"
     ]
    },
    {
     "name": "stdout",
     "output_type": "stream",
     "text": [
      "Dataframe already exists\n"
     ]
    },
    {
     "name": "stderr",
     "output_type": "stream",
     "text": [
      "\u001b[33m[2023-09-11 05:09:21,088][04412] Loading state from checkpoint train_dir_final/mujoco/mujoco_256/00_mujoco_see_1159068_env_mujoco_halfcheetah_d.cri_False_m.std_False_a.s.mod_biased/checkpoint_p0/milestones/checkpoint_000145840_18667520.pth...\u001b[0m\n",
      "\u001b[36m[2023-09-11 05:09:21,224][04412] RunningMeanStd input shape: (17,)\u001b[0m\n",
      "\u001b[36m[2023-09-11 05:09:21,227][04412] RunningMeanStd input shape: (1,)\u001b[0m\n"
     ]
    },
    {
     "name": "stdout",
     "output_type": "stream",
     "text": [
      "Dataframe already exists\n"
     ]
    },
    {
     "name": "stderr",
     "output_type": "stream",
     "text": [
      "\u001b[33m[2023-09-11 05:09:23,002][04412] Loading state from checkpoint train_dir_final/mujoco/mujoco_256/01_mujoco_see_5736945_env_mujoco_halfcheetah_d.cri_False_m.std_False_a.s.mod_biased/checkpoint_p0/milestones/checkpoint_000149184_19095552.pth...\u001b[0m\n",
      "\u001b[36m[2023-09-11 05:09:23,132][04412] RunningMeanStd input shape: (17,)\u001b[0m\n",
      "\u001b[36m[2023-09-11 05:09:23,135][04412] RunningMeanStd input shape: (1,)\u001b[0m\n"
     ]
    },
    {
     "name": "stdout",
     "output_type": "stream",
     "text": [
      "Dataframe already exists\n"
     ]
    },
    {
     "name": "stderr",
     "output_type": "stream",
     "text": [
      "\u001b[33m[2023-09-11 05:09:24,925][04412] Loading state from checkpoint train_dir_final/mujoco/mujoco_256/02_mujoco_see_5473651_env_mujoco_halfcheetah_d.cri_False_m.std_False_a.s.mod_biased/checkpoint_p0/milestones/checkpoint_000145672_18646016.pth...\u001b[0m\n",
      "100%|██████████| 350/350 [31:16<00:00,  5.36s/it]\n",
      "\u001b[36m[2023-09-11 05:40:41,895][04412] RunningMeanStd input shape: (17,)\u001b[0m\n",
      "\u001b[36m[2023-09-11 05:40:41,897][04412] RunningMeanStd input shape: (1,)\u001b[0m\n",
      "\u001b[33m[2023-09-11 05:40:43,643][04412] Loading state from checkpoint train_dir_final/mujoco/mujoco_256/03_mujoco_see_9827557_env_mujoco_halfcheetah_d.cri_False_m.std_False_a.s.mod_biased/checkpoint_p0/milestones/checkpoint_000146232_18717696.pth...\u001b[0m\n",
      "  1%|          | 2/350 [00:13<38:06,  6.57s/it]\n"
     ]
    },
    {
     "ename": "KeyboardInterrupt",
     "evalue": "",
     "output_type": "error",
     "traceback": [
      "\u001b[0;31m---------------------------------------------------------------------------\u001b[0m",
      "\u001b[0;31mKeyboardInterrupt\u001b[0m                         Traceback (most recent call last)",
      "Cell \u001b[0;32mIn[8], line 18\u001b[0m\n\u001b[1;32m     15\u001b[0m cfg\u001b[39m.\u001b[39mmilestone_name \u001b[39m=\u001b[39m milestones[\u001b[39m-\u001b[39m\u001b[39m1\u001b[39m]\n\u001b[1;32m     17\u001b[0m \u001b[39m# enjoy the last milestone\u001b[39;00m\n\u001b[0;32m---> 18\u001b[0m enjoy(cfg)\n",
      "Cell \u001b[0;32mIn[6], line 51\u001b[0m, in \u001b[0;36menjoy\u001b[0;34m(cfg)\u001b[0m\n\u001b[1;32m     49\u001b[0m \u001b[39mfor\u001b[39;00m k \u001b[39min\u001b[39;00m tqdm(\u001b[39mrange\u001b[39m(num)):\n\u001b[1;32m     50\u001b[0m     actor_critic\u001b[39m.\u001b[39mactor_encoder\u001b[39m.\u001b[39mset_graph(list_of_test_arch_indices[k\u001b[39m*\u001b[39marchs_per_num:(k\u001b[39m+\u001b[39m\u001b[39m1\u001b[39m)\u001b[39m*\u001b[39marchs_per_num], list_of_test_shape_inds[k\u001b[39m*\u001b[39marchs_per_num:(k\u001b[39m+\u001b[39m\u001b[39m1\u001b[39m)\u001b[39m*\u001b[39marchs_per_num])\n\u001b[0;32m---> 51\u001b[0m     episode_rewards_per_num, finished_episode_per_num \u001b[39m=\u001b[39m eval_for_given_arch(env\u001b[39m.\u001b[39;49mnum_agents, env, actor_critic, env_info, cfg, device)\n\u001b[1;32m     52\u001b[0m     episode_rewards[k\u001b[39m*\u001b[39marchs_per_num:(k\u001b[39m+\u001b[39m\u001b[39m1\u001b[39m)\u001b[39m*\u001b[39marchs_per_num] \u001b[39m=\u001b[39m episode_rewards_per_num\u001b[39m.\u001b[39mreshape(archs_per_num, env\u001b[39m.\u001b[39mnum_agents\u001b[39m/\u001b[39m\u001b[39m/\u001b[39marchs_per_num)\u001b[39m.\u001b[39mmean(\u001b[39m1\u001b[39m)\n\u001b[1;32m     54\u001b[0m test_results_df[\u001b[39m'\u001b[39m\u001b[39mreward\u001b[39m\u001b[39m'\u001b[39m] \u001b[39m=\u001b[39m episode_rewards\n",
      "Cell \u001b[0;32mIn[5], line 10\u001b[0m, in \u001b[0;36meval_for_given_arch\u001b[0;34m(num_eval_envs, eval_env, actor_critic, env_info, cfg, device)\u001b[0m\n\u001b[1;32m      8\u001b[0m \u001b[39mwhile\u001b[39;00m \u001b[39mnot\u001b[39;00m \u001b[39mall\u001b[39m(finished_episode):\n\u001b[1;32m      9\u001b[0m     normalized_obs \u001b[39m=\u001b[39m prepare_and_normalize_obs(actor_critic, obs)\n\u001b[0;32m---> 10\u001b[0m     policy_outputs \u001b[39m=\u001b[39m actor_critic(normalized_obs, rnn_states, sample_actions\u001b[39m=\u001b[39;49m\u001b[39mTrue\u001b[39;49;00m)\n\u001b[1;32m     12\u001b[0m     \u001b[39m# sample actions from the distribution by default\u001b[39;00m\n\u001b[1;32m     13\u001b[0m     actions \u001b[39m=\u001b[39m policy_outputs[\u001b[39m\"\u001b[39m\u001b[39mactions\u001b[39m\u001b[39m\"\u001b[39m]\n",
      "File \u001b[0;32m~/miniconda3/envs/hyper/lib/python3.9/site-packages/torch/nn/modules/module.py:1501\u001b[0m, in \u001b[0;36mModule._call_impl\u001b[0;34m(self, *args, **kwargs)\u001b[0m\n\u001b[1;32m   1496\u001b[0m \u001b[39m# If we don't have any hooks, we want to skip the rest of the logic in\u001b[39;00m\n\u001b[1;32m   1497\u001b[0m \u001b[39m# this function, and just call forward.\u001b[39;00m\n\u001b[1;32m   1498\u001b[0m \u001b[39mif\u001b[39;00m \u001b[39mnot\u001b[39;00m (\u001b[39mself\u001b[39m\u001b[39m.\u001b[39m_backward_hooks \u001b[39mor\u001b[39;00m \u001b[39mself\u001b[39m\u001b[39m.\u001b[39m_backward_pre_hooks \u001b[39mor\u001b[39;00m \u001b[39mself\u001b[39m\u001b[39m.\u001b[39m_forward_hooks \u001b[39mor\u001b[39;00m \u001b[39mself\u001b[39m\u001b[39m.\u001b[39m_forward_pre_hooks\n\u001b[1;32m   1499\u001b[0m         \u001b[39mor\u001b[39;00m _global_backward_pre_hooks \u001b[39mor\u001b[39;00m _global_backward_hooks\n\u001b[1;32m   1500\u001b[0m         \u001b[39mor\u001b[39;00m _global_forward_hooks \u001b[39mor\u001b[39;00m _global_forward_pre_hooks):\n\u001b[0;32m-> 1501\u001b[0m     \u001b[39mreturn\u001b[39;00m forward_call(\u001b[39m*\u001b[39;49margs, \u001b[39m*\u001b[39;49m\u001b[39m*\u001b[39;49mkwargs)\n\u001b[1;32m   1502\u001b[0m \u001b[39m# Do not call functions when jit is used\u001b[39;00m\n\u001b[1;32m   1503\u001b[0m full_backward_hooks, non_full_backward_hooks \u001b[39m=\u001b[39m [], []\n",
      "File \u001b[0;32m~/research/hyper/HyperPPO/sample_factory/model/actor_critic.py:411\u001b[0m, in \u001b[0;36mHyperActorCritic.forward\u001b[0;34m(self, normalized_obs_dict, rnn_states, values_only, sample_actions)\u001b[0m\n\u001b[1;32m    409\u001b[0m x, std_dev \u001b[39m=\u001b[39m \u001b[39mself\u001b[39m\u001b[39m.\u001b[39mforward_head(normalized_obs_dict)\n\u001b[1;32m    410\u001b[0m x, new_rnn_states \u001b[39m=\u001b[39m \u001b[39mself\u001b[39m\u001b[39m.\u001b[39mforward_core(x, rnn_states)\n\u001b[0;32m--> 411\u001b[0m result \u001b[39m=\u001b[39m \u001b[39mself\u001b[39;49m\u001b[39m.\u001b[39;49mforward_tail(x, values_only, sample_actions\u001b[39m=\u001b[39;49msample_actions, std_dev\u001b[39m=\u001b[39;49mstd_dev)\n\u001b[1;32m    412\u001b[0m result[\u001b[39m\"\u001b[39m\u001b[39mnew_rnn_states\u001b[39m\u001b[39m\"\u001b[39m] \u001b[39m=\u001b[39m new_rnn_states\n\u001b[1;32m    413\u001b[0m \u001b[39mreturn\u001b[39;00m result\n",
      "File \u001b[0;32m~/research/hyper/HyperPPO/sample_factory/model/actor_critic.py:401\u001b[0m, in \u001b[0;36mHyperActorCritic.forward_tail\u001b[0;34m(self, core_output, values_only, sample_actions, std_dev)\u001b[0m\n\u001b[1;32m    399\u001b[0m \u001b[39m# first core output corresponds to the actor\u001b[39;00m\n\u001b[1;32m    400\u001b[0m actor_decoder_output \u001b[39m=\u001b[39m \u001b[39mself\u001b[39m\u001b[39m.\u001b[39mactor_decoder(core_outputs[\u001b[39m0\u001b[39m])\n\u001b[0;32m--> 401\u001b[0m action_distribution_params, \u001b[39mself\u001b[39m\u001b[39m.\u001b[39mlast_action_distribution \u001b[39m=\u001b[39m \u001b[39mself\u001b[39;49m\u001b[39m.\u001b[39;49maction_parameterization(actor_decoder_output, action_stddevs \u001b[39m=\u001b[39;49m std_dev)\n\u001b[1;32m    403\u001b[0m result[\u001b[39m\"\u001b[39m\u001b[39maction_logits\u001b[39m\u001b[39m\"\u001b[39m] \u001b[39m=\u001b[39m action_distribution_params\n\u001b[1;32m    405\u001b[0m \u001b[39mself\u001b[39m\u001b[39m.\u001b[39m_maybe_sample_actions(sample_actions, result)\n",
      "File \u001b[0;32m~/miniconda3/envs/hyper/lib/python3.9/site-packages/torch/nn/modules/module.py:1501\u001b[0m, in \u001b[0;36mModule._call_impl\u001b[0;34m(self, *args, **kwargs)\u001b[0m\n\u001b[1;32m   1496\u001b[0m \u001b[39m# If we don't have any hooks, we want to skip the rest of the logic in\u001b[39;00m\n\u001b[1;32m   1497\u001b[0m \u001b[39m# this function, and just call forward.\u001b[39;00m\n\u001b[1;32m   1498\u001b[0m \u001b[39mif\u001b[39;00m \u001b[39mnot\u001b[39;00m (\u001b[39mself\u001b[39m\u001b[39m.\u001b[39m_backward_hooks \u001b[39mor\u001b[39;00m \u001b[39mself\u001b[39m\u001b[39m.\u001b[39m_backward_pre_hooks \u001b[39mor\u001b[39;00m \u001b[39mself\u001b[39m\u001b[39m.\u001b[39m_forward_hooks \u001b[39mor\u001b[39;00m \u001b[39mself\u001b[39m\u001b[39m.\u001b[39m_forward_pre_hooks\n\u001b[1;32m   1499\u001b[0m         \u001b[39mor\u001b[39;00m _global_backward_pre_hooks \u001b[39mor\u001b[39;00m _global_backward_hooks\n\u001b[1;32m   1500\u001b[0m         \u001b[39mor\u001b[39;00m _global_forward_hooks \u001b[39mor\u001b[39;00m _global_forward_pre_hooks):\n\u001b[0;32m-> 1501\u001b[0m     \u001b[39mreturn\u001b[39;00m forward_call(\u001b[39m*\u001b[39;49margs, \u001b[39m*\u001b[39;49m\u001b[39m*\u001b[39;49mkwargs)\n\u001b[1;32m   1502\u001b[0m \u001b[39m# Do not call functions when jit is used\u001b[39;00m\n\u001b[1;32m   1503\u001b[0m full_backward_hooks, non_full_backward_hooks \u001b[39m=\u001b[39m [], []\n",
      "File \u001b[0;32m~/research/hyper/HyperPPO/sample_factory/model/action_parameterization.py:113\u001b[0m, in \u001b[0;36mIndentityActionParameterizationContinuousNonAdaptiveStddev.forward\u001b[0;34m(self, actor_core_output, action_stddevs)\u001b[0m\n\u001b[1;32m    110\u001b[0m     action_stddevs \u001b[39m=\u001b[39m \u001b[39mself\u001b[39m\u001b[39m.\u001b[39mlearned_stddev\u001b[39m.\u001b[39mrepeat(batch_size, \u001b[39m1\u001b[39m)\n\u001b[1;32m    112\u001b[0m action_distribution_params \u001b[39m=\u001b[39m torch\u001b[39m.\u001b[39mcat((action_means, action_stddevs), dim\u001b[39m=\u001b[39m\u001b[39m1\u001b[39m)\n\u001b[0;32m--> 113\u001b[0m action_distribution \u001b[39m=\u001b[39m get_action_distribution(\u001b[39mself\u001b[39;49m\u001b[39m.\u001b[39;49maction_space, raw_logits\u001b[39m=\u001b[39;49maction_distribution_params)\n\u001b[1;32m    114\u001b[0m \u001b[39mreturn\u001b[39;00m action_distribution_params, action_distribution\n",
      "File \u001b[0;32m~/research/hyper/HyperPPO/sample_factory/algo/utils/action_distributions.py:59\u001b[0m, in \u001b[0;36mget_action_distribution\u001b[0;34m(action_space, raw_logits)\u001b[0m\n\u001b[1;32m     57\u001b[0m     \u001b[39mreturn\u001b[39;00m TupleActionDistribution(action_space, logits_flat\u001b[39m=\u001b[39mraw_logits)\n\u001b[1;32m     58\u001b[0m \u001b[39melif\u001b[39;00m \u001b[39misinstance\u001b[39m(action_space, gym\u001b[39m.\u001b[39mspaces\u001b[39m.\u001b[39mBox):\n\u001b[0;32m---> 59\u001b[0m     \u001b[39mreturn\u001b[39;00m ContinuousActionDistribution(params\u001b[39m=\u001b[39;49mraw_logits)\n\u001b[1;32m     60\u001b[0m \u001b[39melse\u001b[39;00m:\n\u001b[1;32m     61\u001b[0m     \u001b[39mraise\u001b[39;00m \u001b[39mNotImplementedError\u001b[39;00m(\u001b[39mf\u001b[39m\u001b[39m\"\u001b[39m\u001b[39mAction space type \u001b[39m\u001b[39m{\u001b[39;00m\u001b[39mtype\u001b[39m(action_space)\u001b[39m}\u001b[39;00m\u001b[39m not supported!\u001b[39m\u001b[39m\"\u001b[39m)\n",
      "File \u001b[0;32m~/research/hyper/HyperPPO/sample_factory/algo/utils/action_distributions.py:263\u001b[0m, in \u001b[0;36mContinuousActionDistribution.__init__\u001b[0;34m(self, params)\u001b[0m\n\u001b[1;32m    262\u001b[0m \u001b[39mdef\u001b[39;00m \u001b[39m__init__\u001b[39m(\u001b[39mself\u001b[39m, params):\n\u001b[0;32m--> 263\u001b[0m     \u001b[39mself\u001b[39m\u001b[39m.\u001b[39mmeans, \u001b[39mself\u001b[39m\u001b[39m.\u001b[39mlog_std, \u001b[39mself\u001b[39m\u001b[39m.\u001b[39mstddevs \u001b[39m=\u001b[39m \u001b[39mself\u001b[39;49m\u001b[39m.\u001b[39;49m_init_impl(params, \u001b[39mself\u001b[39;49m\u001b[39m.\u001b[39;49mstddev_min, \u001b[39mself\u001b[39;49m\u001b[39m.\u001b[39;49mstddev_max)\n\u001b[1;32m    264\u001b[0m     normal_dist \u001b[39m=\u001b[39m Normal(\u001b[39mself\u001b[39m\u001b[39m.\u001b[39mmeans, \u001b[39mself\u001b[39m\u001b[39m.\u001b[39mstddevs, validate_args\u001b[39m=\u001b[39m\u001b[39mFalse\u001b[39;00m)\n\u001b[1;32m    265\u001b[0m     \u001b[39msuper\u001b[39m()\u001b[39m.\u001b[39m\u001b[39m__init__\u001b[39m(normal_dist, \u001b[39m1\u001b[39m, validate_args\u001b[39m=\u001b[39m\u001b[39mFalse\u001b[39;00m)\n",
      "\u001b[0;31mKeyboardInterrupt\u001b[0m: "
     ]
    }
   ],
   "source": [
    "for mujoco_dir in [\"mujoco_2048\", \"mujoco_1024\", \"mujoco_512\", \"mujoco_256\"]:\n",
    "    # iterate through the train_dir and plot the cdf for each seed\n",
    "    train_dir = f\"train_dir_final/mujoco/{mujoco_dir}\"\n",
    "    cfg.train_dir = train_dir\n",
    "    experiments = os.listdir(train_dir)\n",
    "    experiments.sort(key=lambda x: int(x.split(\"_\")[0]))\n",
    "    for experiment in experiments:\n",
    "        cfg.experiment = experiment\n",
    "\n",
    "        # list all milestones\n",
    "        milestones = os.listdir(os.path.join(train_dir, experiment, \"checkpoint_p0\", \"milestones\"))\n",
    "        milestones.sort(key=lambda x: int(x.split(\"_\")[1]))\n",
    "\n",
    "        # get the last milestone\n",
    "        cfg.milestone_name = milestones[-1]\n",
    "\n",
    "        # enjoy the last milestone\n",
    "        enjoy(cfg)"
   ]
  },
  {
   "cell_type": "code",
   "execution_count": 9,
   "metadata": {},
   "outputs": [
    {
     "data": {
      "text/plain": [
       "<matplotlib.legend.Legend at 0x7fdd301bc160>"
      ]
     },
     "execution_count": 9,
     "metadata": {},
     "output_type": "execute_result"
    },
    {
     "data": {
      "image/png": "[encoded data removed]",
      "text/plain": [
       "<Figure size 640x480 with 1 Axes>"
      ]
     },
     "metadata": {},
     "output_type": "display_data"
    }
   ],
   "source": [
    "max_num_seeds = 4\n",
    "\n",
    "# clear the plot\n",
    "plt.clf()\n",
    "train_dir = \"train_dir_final/mujoco/mujoco_2048\"\n",
    "plot_cdf(train_dir, max_num_seeds)\n",
    "train_dir = \"train_dir_final/mujoco/mujoco_1024\"\n",
    "plot_cdf(train_dir, max_num_seeds)\n",
    "train_dir = \"train_dir_final/mujoco/mujoco_512\"\n",
    "plot_cdf(train_dir, max_num_seeds)\n",
    "train_dir = \"train_dir_final/mujoco/mujoco_256\"\n",
    "plot_cdf(train_dir, max_num_seeds)\n",
    "\n",
    "plt.legend()\n",
    "\n"
   ]
  }
 ],
 "metadata": {
  "kernelspec": {
   "display_name": "hyper",
   "language": "python",
   "name": "python3"
  },
  "language_info": {
   "codemirror_mode": {
    "name": "ipython",
    "version": 3
   },
   "file_extension": ".py",
   "mimetype": "text/x-python",
   "name": "python",
   "nbconvert_exporter": "python",
   "pygments_lexer": "ipython3",
   "version": "3.9.0"
  },
  "orig_nbformat": 4
 },
 "nbformat": 4,
 "nbformat_minor": 2
}
